{
 "cells": [
  {
   "cell_type": "markdown",
   "metadata": {},
   "source": [
    "Code to compare divergence control with pure PID vs PID + open-loop accelerations to reach a desired setpoint."
   ]
  },
  {
   "cell_type": "code",
   "execution_count": null,
   "metadata": {},
   "outputs": [],
   "source": [
    "###Import libraries\n",
    "import pandas as pd\n",
    "import numpy as np\n",
    "import matplotlib.pyplot as plt\n",
    "import glob\n",
    "import os"
   ]
  },
  {
   "cell_type": "markdown",
   "metadata": {},
   "source": [
    "Admittedly, here we don't do it in the most efficient way.\n",
    "So we:\n",
    "1. Load pid and f_acc traces one by one\n",
    "2. Downsample them\n",
    "3. Cut regions that belong to the PID/f_acc sequences\n",
    "4. Calculate error between set-point and actual divergence\n",
    "5. Store data in the summary dataframe"
   ]
  },
  {
   "cell_type": "code",
   "execution_count": null,
   "metadata": {},
   "outputs": [],
   "source": [
    "##Loading of a pair of the traces\n",
    "pid=pd.read_csv('/home/myedut/SwitchDivServ/PID_vs_Open loop Acceleration/Acceleration_data/20250228_pid_5.csv')\n",
    "f_acc=pd.read_csv('/home/myedut/SwitchDivServ/PID_vs_Open loop Acceleration/Acceleration_data/20250228_ffacc_5.csv')"
   ]
  },
  {
   "cell_type": "code",
   "execution_count": null,
   "metadata": {},
   "outputs": [],
   "source": [
    "##Downsample\n",
    "pid['time'] = pd.to_timedelta(pid['time'], unit='s')\n",
    "pid.set_index('time', inplace=True)\n",
    "\n",
    "pid_2=pid.resample('65ms').mean()\n",
    "\n",
    "f_acc['time'] = pd.to_timedelta(f_acc['time'], unit='s')\n",
    "f_acc.set_index('time', inplace=True)\n",
    "f_acc_2=f_acc.resample('65ms').mean()"
   ]
  },
  {
   "cell_type": "code",
   "execution_count": null,
   "metadata": {},
   "outputs": [],
   "source": [
    "#Make Time for the plot with an example of div_sp vs. div\n",
    "Time=np.arange(0,len(pid_2)*0.065,0.065)"
   ]
  },
  {
   "cell_type": "code",
   "execution_count": null,
   "metadata": {},
   "outputs": [],
   "source": [
    "plt.figure(figsize=(12, 8))\n",
    "\n",
    "plt.plot(Time[:250],f_acc_2['divergence'].iloc[10:260].values,color='green', linewidth=3, label='open-loop acceleration+PID control')\n",
    "plt.plot(Time[:250],pid_2['divergence'].iloc[:250].values,color='deeppink', linewidth=3, alpha=0.7,label='only PID control')\n",
    "plt.plot(Time[:250],f_acc_2['divergence_sp'].iloc[10:260].values)\n",
    "plt.plot(Time[:250],pid_2['divergence_sp'].iloc[:250].values,color='black', linewidth=3, label='divergence set-point')\n",
    "\n",
    "#plt.legend(fontsize=22)\n",
    "plt.xticks(fontsize=20)\n",
    "plt.yticks(fontsize=20)\n",
    "plt.xlabel('Time (s)', fontsize=22)\n",
    "plt.ylabel('Divergence', fontsize=22)\n",
    "ax = plt.gca()\n",
    "#plt.gca().invert_xaxis() # Invert x-axis from 5 to 1\n",
    "\n",
    "ax.spines['right'].set_visible(False)\n",
    "ax.spines['top'].set_visible(False)\n",
    "plt.savefig('lapse.png', dpi=300)"
   ]
  },
  {
   "cell_type": "code",
   "execution_count": null,
   "metadata": {},
   "outputs": [],
   "source": [
    "#prvious day\n",
    "pid_limits=[(76,125),(146,195)]\n",
    "f_acc_limits=[(70,113),(143,187)]"
   ]
  },
  {
   "cell_type": "code",
   "execution_count": null,
   "metadata": {},
   "outputs": [],
   "source": [
    "#1\n",
    "pid_limits=[(68,124),(150,195),(220,250)]\n",
    "f_acc_limits=[(70,110),(140,182),(212,255)]"
   ]
  },
  {
   "cell_type": "code",
   "execution_count": null,
   "metadata": {},
   "outputs": [],
   "source": [
    "#2\n",
    "pid_limits=[(55,119),(165,260)]\n",
    "f_acc_limits=[(64,109),(137,240)]"
   ]
  },
  {
   "cell_type": "code",
   "execution_count": null,
   "metadata": {},
   "outputs": [],
   "source": [
    "#3\n",
    "pid_limits=[(100,150),(170,220)]\n",
    "f_acc_limits=[(150,194),(222,260)]"
   ]
  },
  {
   "cell_type": "code",
   "execution_count": null,
   "metadata": {},
   "outputs": [],
   "source": [
    "#4\n",
    "pid_limits=[(60,120),(10,190),(210,260)]\n",
    "f_acc_limits=[(165,205),(240,280),(310,350)]"
   ]
  },
  {
   "cell_type": "code",
   "execution_count": null,
   "metadata": {},
   "outputs": [],
   "source": [
    "#5\n",
    "pid_limits=[(55,123),(146,195),(220,267)]\n",
    "f_acc_limits=[(64,110),(137,180),(210,250)]"
   ]
  },
  {
   "cell_type": "code",
   "execution_count": null,
   "metadata": {},
   "outputs": [],
   "source": [
    "#6\n",
    "pid_limits=[(86,145),(174,218)]\n",
    "f_acc_limits=[(134,180),(207,251)]"
   ]
  },
  {
   "cell_type": "code",
   "execution_count": null,
   "metadata": {},
   "outputs": [],
   "source": [
    "error_pid=np.abs(pid_2['divergence_sp'].values-pid_2['divergence'].values)\n",
    "error_f_acc=np.abs(f_acc_2['divergence_sp'].values-f_acc_2['divergence'].values)"
   ]
  },
  {
   "cell_type": "code",
   "execution_count": null,
   "metadata": {},
   "outputs": [],
   "source": [
    "filtered_values_pid = []\n",
    "\n",
    "# Iterate over the pid_limits\n",
    "for start, end in pid_limits:\n",
    "    # Append the sliced values from error_pid to the filtered_values list\n",
    "    filtered_values_pid.extend(error_pid[start:end+1])\n",
    "\n",
    "filtered_values_f_acc = []\n",
    "\n",
    "# Iterate over the f_acc_limits\n",
    "for start, end in f_acc_limits:\n",
    "    # Append the sliced values from error_f_acc to the filtered_values list\n",
    "    filtered_values_f_acc.extend(error_f_acc[start:end+1])"
   ]
  },
  {
   "cell_type": "code",
   "execution_count": null,
   "metadata": {},
   "outputs": [],
   "source": [
    "new_acc_values = {\n",
    "    'mean_error': np.mean(filtered_values_f_acc),\n",
    "    'std_error': np.std(filtered_values_f_acc),\n",
    "    'median_error': np.median(filtered_values_f_acc)\n",
    "}\n",
    "\n",
    "new_pid_values = {\n",
    "    'mean_error': np.mean(filtered_values_pid),\n",
    "    'std_error': np.std(filtered_values_pid),\n",
    "    'median_error': np.median(filtered_values_pid)\n",
    "}\n",
    "\n",
    "# Append new values to acc_summary\n",
    "acc_summary = acc_summary.append(new_acc_values, ignore_index=True)\n",
    "\n",
    "# Append new values to pid_summary\n",
    "pid_summary = pid_summary.append(new_pid_values, ignore_index=True)\n"
   ]
  },
  {
   "cell_type": "code",
   "execution_count": null,
   "metadata": {},
   "outputs": [],
   "source": [
    "pid_summary.to_csv('pid_summary.csv', index=False)\n",
    "acc_summary.to_csv('acc_summary.csv', index=False)"
   ]
  },
  {
   "cell_type": "code",
   "execution_count": null,
   "metadata": {},
   "outputs": [],
   "source": [
    "import scipy.stats as stats\n",
    "\n",
    "# Extract the 'mean_error' columns\n",
    "pid_mean_error = pid_summary['mean_error']\n",
    "acc_mean_error = acc_summary['mean_error']\n",
    "\n",
    "# Perform the paired t-test\n",
    "t_stat, p_value = stats.ttest_rel(pid_mean_error, acc_mean_error)\n",
    "\n",
    "# Print the results\n",
    "print(f\"T-statistic: {t_stat}\")\n",
    "print(f\"P-value: {p_value}\")"
   ]
  },
  {
   "cell_type": "code",
   "execution_count": null,
   "metadata": {},
   "outputs": [],
   "source": [
    "pid_summary = pd.read_csv('pid_summary.csv')"
   ]
  },
  {
   "cell_type": "code",
   "execution_count": null,
   "metadata": {},
   "outputs": [],
   "source": [
    "acc_summary = pd.read_csv('acc_summary.csv')"
   ]
  }
 ],
 "metadata": {
  "language_info": {
   "name": "python"
  }
 },
 "nbformat": 4,
 "nbformat_minor": 2
}
