{
 "cells": [
  {
   "cell_type": "markdown",
   "metadata": {},
   "source": [
    "Here we pre-process landing traces before subsequent analyis. The data was collected within 2 large sets of experiments. Therefore the raw data is stored in 2 \"raw_data\" folders: Landings_Old and Landings_New \n",
    "Namely, we do the following: \n",
    "1. Downsample\n",
    "2. Extract parts of the trace where drone flew to the box (i.e. remove data collected when we were putting drone to hover and initial position and data logged after the landing)\n",
    "3. Subtract drone position from the logged drone coordinates"
   ]
  },
  {
   "cell_type": "code",
   "execution_count": 2,
   "metadata": {},
   "outputs": [],
   "source": [
    "\n",
    "###Import necessary libraries\n",
    "import pandas as pd\n",
    "import numpy as np\n",
    "import matplotlib.pyplot as plt\n",
    "import glob\n",
    "import os"
   ]
  },
  {
   "cell_type": "code",
   "execution_count": 3,
   "metadata": {},
   "outputs": [
    {
     "name": "stdout",
     "output_type": "stream",
     "text": [
      "['/home/myedut/Downloads/raw_bebop_data/Landings/20231206-164115.csv', '/home/myedut/Downloads/raw_bebop_data/Landings/20231206-162628.csv', '/home/myedut/Downloads/raw_bebop_data/Landings/20231129-184113.csv', '/home/myedut/Downloads/raw_bebop_data/Landings/20240118-093935.csv', '/home/myedut/Downloads/raw_bebop_data/Landings/gather_data_vs1.csv', '/home/myedut/Downloads/raw_bebop_data/Landings/20241122-125514.csv']\n"
     ]
    }
   ],
   "source": [
    "\n",
    "folder_path = '/home/myedut/Downloads/raw_bebop_data/Landings_Old'\n",
    "# Initialize the list\n",
    "landings_prelim= []\n",
    "\n",
    "# Use glob to find all CSV files in the folder\n",
    "csv_files = glob.glob(os.path.join(folder_path, '*.csv'))\n",
    "print(csv_files)\n",
    "\n",
    "# Read each CSV file and append to the list\n",
    "for file in csv_files:\n",
    "    landings_prelim.append(pd.read_csv(file))\n"
   ]
  },
  {
   "cell_type": "code",
   "execution_count": null,
   "metadata": {},
   "outputs": [],
   "source": [
    "###Resample the data\n",
    "landings_resampled = []\n",
    "\n",
    "# Ensure there is no variable named 'list' that shadows the built-in list type\n",
    "# If you have such a variable, rename it to something else\n",
    "\n",
    "for i in range(len(landings_prelim)):\n",
    "    print(i)\n",
    "    landings_prelim[i]['time'] = pd.to_timedelta(landings_prelim[i]['time'], unit='s')\n",
    "    landings_prelim[i].set_index('time', inplace=True)\n",
    "\n",
    "    landings_resampled.append(landings_prelim[i].resample('65ms').mean())"
   ]
  },
  {
   "cell_type": "code",
   "execution_count": 4,
   "metadata": {},
   "outputs": [],
   "source": [
    "###Parts that corresponds to landings\n",
    "ranges_0=[(175,360)]\n",
    "ranges_1=[(460,637)]\n",
    "ranges_2=[(160,292)]\n",
    "ranges_3=[(140,327)]\n",
    "ranges_4=[(350,620),(700,990),(1050,1314),(1425,1592),(1650,1820),(1880,2034)]\n",
    "ranges_5=[(55,235)]\n",
    "\n",
    "total_range=[ranges_0,ranges_1,ranges_2,ranges_3,ranges_4,ranges_5]\n",
    "\n",
    "box_position_0=np.array([4.5,-0.3,-0.7])\n",
    "box_position_1=np.array([4.2,0,-0.7])\n",
    "box_position_2=np.array([3,0,-0.7])\n",
    "box_position_3=np.array([4,0,-0.7])\n",
    "box_position_4=np.array([4,1,-0.7])\n",
    "box_position_5=np.array([5,2,-0.7])\n",
    "\n",
    "total_position=[box_position_0,box_position_1,box_position_2,box_position_3,box_position_4,box_position_5]\n",
    "\n",
    "#\n",
    "###Now cut traces to have individual landings only:\n",
    "landing_traces=[]\n",
    "for i in range(len(landings_resampled)):\n",
    "    \n",
    "    for j in range(len(total_range[i])):\n",
    "        landing_traces.append(landings_resampled[i].iloc[total_range[i][j][0]:total_range[i][j][1]])\n"
   ]
  },
  {
   "cell_type": "code",
   "execution_count": null,
   "metadata": {},
   "outputs": [],
   "source": [
    "###Now save the data into folder with preprocessed data\n",
    "for i in range (len((landing_traces))):\n",
    "    landing_traces[i].to_csv('/home/myedut/Downloads/raw_bebop_data/Landings_clean/landing_trace_'+str(i)+'.csv')"
   ]
  },
  {
   "cell_type": "markdown",
   "metadata": {},
   "source": [
    "Now let's do the same, but for the so-called Landings_New"
   ]
  },
  {
   "cell_type": "code",
   "execution_count": null,
   "metadata": {},
   "outputs": [],
   "source": [
    "\n",
    "folder_path = '/home/myedut/Downloads/raw_bebop_data/Landings_New'\n",
    "# Initialize the list\n",
    "landings_prelim= []\n",
    "\n",
    "# Use glob to find all CSV files in the folder\n",
    "csv_files = glob.glob(os.path.join(folder_path, '*.csv'))\n",
    "print(csv_files)\n",
    "\n",
    "# Read each CSV file and append to the list\n",
    "for file in csv_files:\n",
    "    landings_prelim.append(pd.read_csv(file))\n"
   ]
  },
  {
   "cell_type": "code",
   "execution_count": null,
   "metadata": {},
   "outputs": [],
   "source": [
    "landings_resampled = []\n",
    "\n",
    "# Ensure there is no variable named 'list' that shadows the built-in list type\n",
    "# If you have such a variable, rename it to something else\n",
    "\n",
    "for i in range(len(landings_prelim)):\n",
    "    print(i)\n",
    "    landings_prelim[i]['time'] = pd.to_timedelta(landings_prelim[i]['time'], unit='s')\n",
    "    landings_prelim[i].set_index('time', inplace=True)\n",
    "\n",
    "    landings_resampled.append(landings_prelim[i].resample('65ms').mean())"
   ]
  },
  {
   "cell_type": "code",
   "execution_count": null,
   "metadata": {},
   "outputs": [],
   "source": [
    "ranges_0=[(100,285)]\n",
    "ranges_1=[(50,206)]\n",
    "ranges_2=[(130,320)]\n",
    "ranges_3=[(100,265)]\n",
    "ranges_4=[(120,283)]\n",
    "ranges_5=[(115,245)]\n",
    "ranges_6=[(120,275)]\n",
    "\n",
    "\n",
    "\n",
    "\n",
    "total_range=[ranges_0,ranges_1,ranges_2,ranges_3,ranges_4,ranges_5,ranges_6]\n",
    "\n",
    "\n",
    "\n",
    "\n",
    "\n",
    "\n",
    "\n",
    "box_position=[3.9,-0.5,-0.7]"
   ]
  },
  {
   "cell_type": "code",
   "execution_count": null,
   "metadata": {},
   "outputs": [],
   "source": [
    "#\n",
    "###Now cut traces to have individual landings only:\n",
    "landing_traces=[]\n",
    "for i in range(len(landings_resampled)):\n",
    "        print(i)\n",
    "    \n",
    "    \n",
    "        landing_traces.append(landings_resampled[i].iloc[total_range[i][0][0]:total_range[i][0][1]])\n",
    "\n",
    "for i in range(len(landing_traces)):\n",
    "    landing_traces[i]['pos_x']=landing_traces[i]['pos_x']-box_position[0]\n",
    "    landing_traces[i]['pos_y']=landing_traces[i]['pos_y']-box_position[1]\n",
    "    landing_traces[i]['pos_z']=landing_traces[i]['pos_z']-box_position[2]"
   ]
  },
  {
   "cell_type": "code",
   "execution_count": null,
   "metadata": {},
   "outputs": [],
   "source": [
    "for i in range (len((landing_traces))):\n",
    "    landing_traces[i].to_csv('/home/myedut/Downloads/raw_bebop_data/Landings_clean/landing_trace_'+str(i+11)+'.csv')"
   ]
  }
 ],
 "metadata": {
  "kernelspec": {
   "display_name": "Toys",
   "language": "python",
   "name": "python3"
  },
  "language_info": {
   "codemirror_mode": {
    "name": "ipython",
    "version": 3
   },
   "file_extension": ".py",
   "mimetype": "text/x-python",
   "name": "python",
   "nbconvert_exporter": "python",
   "pygments_lexer": "ipython3",
   "version": "3.10.4"
  }
 },
 "nbformat": 4,
 "nbformat_minor": 2
}
